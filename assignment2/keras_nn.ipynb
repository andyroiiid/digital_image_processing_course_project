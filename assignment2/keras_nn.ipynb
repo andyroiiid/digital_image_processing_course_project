{
 "cells": [
  {
   "cell_type": "code",
   "execution_count": 1,
   "metadata": {},
   "outputs": [],
   "source": [
    "%matplotlib inline\n",
    "\n",
    "import numpy as np\n",
    "import matplotlib.pyplot as plt\n",
    "from time import time\n",
    "\n",
    "DATA_PATH = \"../data/cifar-10-batches-py/\"\n",
    "\n",
    "def unpack(fname):\n",
    "    import pickle\n",
    "    with open(fname, \"rb\") as fin:\n",
    "        dumped = pickle.load(fin, encoding=\"bytes\")\n",
    "    return dumped\n",
    "\n",
    "train_input = []\n",
    "train_oh_output = []\n",
    "train_output = []\n",
    "for i in range(5):\n",
    "    raw_train_data = unpack(DATA_PATH + \"data_batch_\" + str(i+1))\n",
    "    train_input.append(np.array(raw_train_data[b\"data\"], dtype=float) / 255)\n",
    "    train_oh_output.append(np.array([[1 if x == label else 0 for x in range(10)] for label in raw_train_data[b\"labels\"]]))\n",
    "    train_output.append(np.array(raw_train_data[b\"labels\"]))\n",
    "train_input = np.concatenate(train_input)\n",
    "train_oh_output = np.concatenate(train_oh_output)\n",
    "train_output = np.concatenate(train_output)\n",
    "\n",
    "raw_test_data = unpack(DATA_PATH + \"test_batch\")\n",
    "test_input = np.array(raw_test_data[b\"data\"], dtype=float) / 255\n",
    "test_oh_output = np.array([[1 if x == label else 0 for x in range(10)] for label in raw_test_data[b\"labels\"]])\n",
    "test_output = np.array(raw_test_data[b\"labels\"])"
   ]
  },
  {
   "cell_type": "code",
   "execution_count": 2,
   "metadata": {},
   "outputs": [
    {
     "name": "stdout",
     "output_type": "stream",
     "text": [
      "(50000, 3072)\n",
      "(50000, 10)\n",
      "(50000,)\n",
      "(10000, 3072)\n",
      "(10000, 10)\n",
      "(10000,)\n"
     ]
    }
   ],
   "source": [
    "print(train_input.shape)\n",
    "print(train_oh_output.shape) # one-hot output train data\n",
    "print(train_output.shape)\n",
    "print(test_input.shape)\n",
    "print(test_oh_output.shape) # ont-hot output test data\n",
    "print(test_output.shape)"
   ]
  },
  {
   "cell_type": "code",
   "execution_count": 3,
   "metadata": {},
   "outputs": [
    {
     "name": "stderr",
     "output_type": "stream",
     "text": [
      "Using TensorFlow backend.\n"
     ]
    }
   ],
   "source": [
    "from keras.models import Sequential\n",
    "from keras.layers import Dense, Dropout\n",
    "from keras.optimizers import SGD\n",
    "from sklearn.model_selection import StratifiedKFold"
   ]
  },
  {
   "cell_type": "code",
   "execution_count": 11,
   "metadata": {},
   "outputs": [],
   "source": [
    "def create_model(hidden_layer_size=100, activation=\"relu\", dropout=0.2):\n",
    "    model = Sequential()\n",
    "    model.add(Dense(hidden_layer_size, activation=activation, input_shape=(3072,)))\n",
    "    model.add(Dropout(dropout))\n",
    "    model.add(Dense(10, activation='softmax'))\n",
    "    model.compile(loss='categorical_crossentropy', optimizer=SGD(), metrics=[\"accuracy\"])\n",
    "    return model\n",
    "\n",
    "# model must be fitted with one-hot output train data\n",
    "\n",
    "def calc_accuracy(model, test_input, test_output):\n",
    "    predict = np.array([np.argmax(x) for x in model.predict(test_input)])\n",
    "    return np.sum(predict == test_output) / len(predict)"
   ]
  },
  {
   "cell_type": "markdown",
   "metadata": {},
   "source": [
    "# 超参交叉验证"
   ]
  },
  {
   "cell_type": "code",
   "execution_count": 12,
   "metadata": {},
   "outputs": [],
   "source": [
    "n_splits = 5\n",
    "skf = StratifiedKFold(n_splits=n_splits)"
   ]
  },
  {
   "cell_type": "markdown",
   "metadata": {},
   "source": [
    "## 隐藏层单元数"
   ]
  },
  {
   "cell_type": "code",
   "execution_count": 14,
   "metadata": {},
   "outputs": [
    {
     "name": "stdout",
     "output_type": "stream",
     "text": [
      "cross validating hidden layer size 10\n",
      "[0.1325 0.1585 0.147  0.17   0.132 ]\n",
      "cross validating hidden layer size 120\n",
      "[0.2845 0.2655 0.2715 0.2875 0.257 ]\n",
      "cross validating hidden layer size 230\n",
      "[0.3325 0.286  0.3155 0.334  0.285 ]\n",
      "cross validating hidden layer size 340\n",
      "[0.298  0.3045 0.2575 0.32   0.285 ]\n",
      "cross validating hidden layer size 450\n",
      "[0.29   0.3155 0.301  0.3165 0.3295]\n",
      "cross validating hidden layer size 560\n",
      "[0.2925 0.314  0.3095 0.301  0.286 ]\n",
      "cross validating hidden layer size 670\n",
      "[0.31   0.3105 0.311  0.3155 0.297 ]\n",
      "cross validating hidden layer size 780\n",
      "[0.3285 0.27   0.3135 0.332  0.3075]\n",
      "cross validating hidden layer size 890\n",
      "[0.3035 0.3335 0.3285 0.32   0.2945]\n",
      "cross validating hidden layer size 1000\n",
      "[0.2855 0.3265 0.336  0.323  0.316 ]\n"
     ]
    }
   ],
   "source": [
    "hidden_layer_sizes = np.linspace(10, 1000, 10, dtype=int)\n",
    "accuracies = np.zeros((len(hidden_layer_sizes), n_splits))\n",
    "for i, hidden_layer_size in enumerate(hidden_layer_sizes):\n",
    "    print(\"cross validating\", \"hidden layer size\", hidden_layer_size)\n",
    "    accuracies[i] = np.zeros(n_splits)\n",
    "    for j, (train_indices, test_indicies) in enumerate(skf.split(test_input, test_output)):\n",
    "        model = create_model(hidden_layer_size = hidden_layer_size)\n",
    "        model.fit(test_input[train_indices], test_oh_output[train_indices], verbose=0)\n",
    "        accuracies[i][j] = calc_accuracy(model, test_input[test_indicies], test_output[test_indicies])\n",
    "    print(accuracies[i])"
   ]
  },
  {
   "cell_type": "code",
   "execution_count": 19,
   "metadata": {},
   "outputs": [
    {
     "data": {
      "image/png": "[encoded data removed]",
      "text/plain": [
       "<Figure size 432x288 with 1 Axes>"
      ]
     },
     "metadata": {},
     "output_type": "display_data"
    }
   ],
   "source": [
    "accuracies_mean = [np.mean(a) for a in accuracies]\n",
    "accuracies_std = [np.std(a) for a in accuracies]\n",
    "plt.errorbar(hidden_layer_sizes, accuracies_mean, yerr=accuracies_std)\n",
    "plt.xlabel(\"hidden layer size\")\n",
    "plt.ylabel(\"epoch 1 accuracy\")\n",
    "plt.show()"
   ]
  },
  {
   "cell_type": "code",
   "execution_count": null,
   "metadata": {},
   "outputs": [],
   "source": []
  }
 ],
 "metadata": {
  "kernelspec": {
   "display_name": "Python 3",
   "language": "python",
   "name": "python3"
  },
  "language_info": {
   "codemirror_mode": {
    "name": "ipython",
    "version": 3
   },
   "file_extension": ".py",
   "mimetype": "text/x-python",
   "name": "python",
   "nbconvert_exporter": "python",
   "pygments_lexer": "ipython3",
   "version": "3.6.5"
  }
 },
 "nbformat": 4,
 "nbformat_minor": 2
}
