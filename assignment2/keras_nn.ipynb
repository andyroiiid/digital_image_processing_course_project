{
 "cells": [
  {
   "cell_type": "markdown",
   "metadata": {},
   "source": [
    "# 准备数据"
   ]
  },
  {
   "cell_type": "code",
   "execution_count": 1,
   "metadata": {},
   "outputs": [],
   "source": [
    "%matplotlib inline\n",
    "\n",
    "import numpy as np\n",
    "import matplotlib.pyplot as plt\n",
    "from time import time\n",
    "\n",
    "DATA_PATH = \"../data/cifar-10-batches-py/\"\n",
    "\n",
    "def unpack(fname):\n",
    "    import pickle\n",
    "    with open(fname, \"rb\") as fin:\n",
    "        dumped = pickle.load(fin, encoding=\"bytes\")\n",
    "    return dumped\n",
    "\n",
    "train_input = []\n",
    "train_oh_output = []\n",
    "train_output = []\n",
    "for i in range(5):\n",
    "    raw_train_data = unpack(DATA_PATH + \"data_batch_\" + str(i+1))\n",
    "    train_input.append(np.array(raw_train_data[b\"data\"], dtype=float) / 255)\n",
    "    train_oh_output.append(np.array([[1 if x == label else 0 for x in range(10)] for label in raw_train_data[b\"labels\"]]))\n",
    "    train_output.append(np.array(raw_train_data[b\"labels\"]))\n",
    "train_input = np.concatenate(train_input)\n",
    "train_oh_output = np.concatenate(train_oh_output)\n",
    "train_output = np.concatenate(train_output)\n",
    "\n",
    "raw_test_data = unpack(DATA_PATH + \"test_batch\")\n",
    "test_input = np.array(raw_test_data[b\"data\"], dtype=float) / 255\n",
    "test_oh_output = np.array([[1 if x == label else 0 for x in range(10)] for label in raw_test_data[b\"labels\"]])\n",
    "test_output = np.array(raw_test_data[b\"labels\"])"
   ]
  },
  {
   "cell_type": "code",
   "execution_count": 2,
   "metadata": {
    "scrolled": true
   },
   "outputs": [
    {
     "name": "stdout",
     "output_type": "stream",
     "text": [
      "(50000, 3072)\n",
      "(50000, 10)\n",
      "(50000,)\n",
      "(10000, 3072)\n",
      "(10000, 10)\n",
      "(10000,)\n"
     ]
    }
   ],
   "source": [
    "print(train_input.shape)\n",
    "print(train_oh_output.shape) # one-hot output train data\n",
    "print(train_output.shape)\n",
    "print(test_input.shape)\n",
    "print(test_oh_output.shape) # ont-hot output test data\n",
    "print(test_output.shape)"
   ]
  },
  {
   "cell_type": "markdown",
   "metadata": {},
   "source": [
    "# 建立模型"
   ]
  },
  {
   "cell_type": "code",
   "execution_count": 3,
   "metadata": {},
   "outputs": [
    {
     "name": "stderr",
     "output_type": "stream",
     "text": [
      "Using TensorFlow backend.\n"
     ]
    }
   ],
   "source": [
    "from keras.models import Sequential\n",
    "from keras.layers import Dense, Dropout\n",
    "from keras.optimizers import SGD\n",
    "from sklearn.model_selection import StratifiedKFold"
   ]
  },
  {
   "cell_type": "code",
   "execution_count": 4,
   "metadata": {},
   "outputs": [],
   "source": [
    "def create_model(hidden_layer_size=200, hidden_layer_depth=1, activation=\"tanh\", dropout=0.2):\n",
    "    model = Sequential()\n",
    "    model.add(Dense(hidden_layer_size, activation=activation, input_shape=(3072,)))\n",
    "    for i in range(hidden_layer_depth-1):\n",
    "        model.add(Dropout(dropout))\n",
    "        model.add(Dense(hidden_layer_size, activation=activation))\n",
    "    model.add(Dropout(dropout))\n",
    "    model.add(Dense(10, activation='softmax'))\n",
    "    model.compile(loss='categorical_crossentropy', optimizer=SGD(), metrics=[\"accuracy\"])\n",
    "    return model\n",
    "\n",
    "# model must be fitted with one-hot output train data\n",
    "\n",
    "def calc_accuracy(model, test_input, test_output):\n",
    "    predict = np.array([np.argmax(x) for x in model.predict(test_input)])\n",
    "    return np.sum(predict == test_output) / len(predict)"
   ]
  },
  {
   "cell_type": "markdown",
   "metadata": {},
   "source": [
    "# 超参交叉验证"
   ]
  },
  {
   "cell_type": "code",
   "execution_count": 5,
   "metadata": {},
   "outputs": [],
   "source": [
    "n_splits = 5\n",
    "skf = StratifiedKFold(n_splits=n_splits)"
   ]
  },
  {
   "cell_type": "markdown",
   "metadata": {},
   "source": [
    "## 隐藏层单元数"
   ]
  },
  {
   "cell_type": "code",
   "execution_count": 6,
   "metadata": {},
   "outputs": [
    {
     "name": "stdout",
     "output_type": "stream",
     "text": [
      "cross validating hidden layer size 10\n",
      "[0.1645 0.179  0.172  0.101  0.1175]\n",
      "cross validating hidden layer size 120\n",
      "[0.2725 0.2955 0.2925 0.268  0.259 ]\n",
      "cross validating hidden layer size 230\n",
      "[0.3135 0.3035 0.2935 0.318  0.3005]\n",
      "cross validating hidden layer size 340\n",
      "[0.2825 0.282  0.249  0.301  0.2965]\n",
      "cross validating hidden layer size 450\n",
      "[0.3045 0.3145 0.299  0.3185 0.289 ]\n",
      "cross validating hidden layer size 560\n",
      "[0.305  0.3245 0.3135 0.3145 0.3   ]\n",
      "cross validating hidden layer size 670\n",
      "[0.315 0.329 0.329 0.298 0.278]\n",
      "cross validating hidden layer size 780\n",
      "[0.2955 0.2875 0.331  0.3175 0.2855]\n",
      "cross validating hidden layer size 890\n",
      "[0.301  0.2915 0.3175 0.3235 0.316 ]\n",
      "cross validating hidden layer size 1000\n",
      "[0.2995 0.3105 0.306  0.325  0.303 ]\n"
     ]
    }
   ],
   "source": [
    "hidden_layer_sizes = np.linspace(10, 1000, 10, dtype=int)\n",
    "accuracies = np.zeros((len(hidden_layer_sizes), n_splits))\n",
    "for i, hidden_layer_size in enumerate(hidden_layer_sizes):\n",
    "    print(\"cross validating\", \"hidden layer size\", hidden_layer_size)\n",
    "    accuracies[i] = np.zeros(n_splits)\n",
    "    for j, (train_indices, test_indicies) in enumerate(skf.split(test_input, test_output)):\n",
    "        model = create_model(hidden_layer_size = hidden_layer_size)\n",
    "        model.fit(test_input[train_indices], test_oh_output[train_indices], verbose=0)\n",
    "        accuracies[i][j] = calc_accuracy(model, test_input[test_indicies], test_output[test_indicies])\n",
    "    print(accuracies[i])"
   ]
  },
  {
   "cell_type": "code",
   "execution_count": 7,
   "metadata": {},
   "outputs": [
    {
     "data": {
      "image/png": "[encoded data removed]",
      "text/plain": [
       "<Figure size 432x288 with 1 Axes>"
      ]
     },
     "metadata": {},
     "output_type": "display_data"
    }
   ],
   "source": [
    "accuracies_mean = [np.mean(a) for a in accuracies]\n",
    "accuracies_std = [np.std(a) for a in accuracies]\n",
    "plt.errorbar(hidden_layer_sizes, accuracies_mean, yerr=accuracies_std)\n",
    "plt.xlabel(\"hidden layer size\")\n",
    "plt.ylabel(\"epoch 1 accuracy\")\n",
    "plt.show()"
   ]
  },
  {
   "cell_type": "markdown",
   "metadata": {},
   "source": [
    "## 隐藏层层数"
   ]
  },
  {
   "cell_type": "code",
   "execution_count": 8,
   "metadata": {},
   "outputs": [
    {
     "name": "stdout",
     "output_type": "stream",
     "text": [
      "cross validating hidden layer depth 1\n",
      "[0.2815 0.2955 0.257  0.2875 0.293 ]\n",
      "cross validating hidden layer depth 2\n",
      "[0.211  0.2815 0.2665 0.3035 0.242 ]\n",
      "cross validating hidden layer depth 3\n",
      "[0.212  0.211  0.231  0.219  0.2145]\n",
      "cross validating hidden layer depth 4\n",
      "[0.2345 0.193  0.1895 0.1625 0.1555]\n",
      "cross validating hidden layer depth 5\n",
      "[0.1685 0.175  0.161  0.1855 0.1945]\n"
     ]
    }
   ],
   "source": [
    "hidden_layer_depths = np.linspace(1, 5, 5, dtype=int)\n",
    "accuracies = np.zeros((len(hidden_layer_depths), n_splits))\n",
    "for i, hidden_layer_depth in enumerate(hidden_layer_depths):\n",
    "    print(\"cross validating\", \"hidden layer depth\", hidden_layer_depth)\n",
    "    accuracies[i] = np.zeros(n_splits)\n",
    "    for j, (train_indices, test_indicies) in enumerate(skf.split(test_input, test_output)):\n",
    "        model = create_model(hidden_layer_depth = hidden_layer_depth)\n",
    "        model.fit(test_input[train_indices], test_oh_output[train_indices], verbose=0)\n",
    "        accuracies[i][j] = calc_accuracy(model, test_input[test_indicies], test_output[test_indicies])\n",
    "    print(accuracies[i])"
   ]
  },
  {
   "cell_type": "code",
   "execution_count": 9,
   "metadata": {},
   "outputs": [
    {
     "data": {
      "image/png": "[encoded data removed]",
      "text/plain": [
       "<Figure size 432x288 with 1 Axes>"
      ]
     },
     "metadata": {},
     "output_type": "display_data"
    }
   ],
   "source": [
    "accuracies_mean = [np.mean(a) for a in accuracies]\n",
    "accuracies_std = [np.std(a) for a in accuracies]\n",
    "plt.errorbar(hidden_layer_depths, accuracies_mean, yerr=accuracies_std)\n",
    "plt.xlabel(\"hidden layer depth\")\n",
    "plt.ylabel(\"epoch 1 accuracy\")\n",
    "plt.show()"
   ]
  },
  {
   "cell_type": "markdown",
   "metadata": {},
   "source": [
    "## 激活函数"
   ]
  },
  {
   "cell_type": "code",
   "execution_count": 10,
   "metadata": {},
   "outputs": [
    {
     "name": "stdout",
     "output_type": "stream",
     "text": [
      "cross validating activation function 'softmax'\n",
      "[0.1255 0.11   0.085  0.119  0.1005]\n",
      "cross validating activation function 'elu'\n",
      "[0.3215 0.294  0.2645 0.31   0.2985]\n",
      "cross validating activation function 'selu'\n",
      "[0.285  0.3065 0.256  0.284  0.184 ]\n",
      "cross validating activation function 'softplus'\n",
      "[0.2905 0.294  0.2785 0.3035 0.2695]\n",
      "cross validating activation function 'softsign'\n",
      "[0.308  0.2995 0.279  0.2665 0.2755]\n",
      "cross validating activation function 'relu'\n",
      "[0.26   0.299  0.2925 0.259  0.293 ]\n",
      "cross validating activation function 'tanh'\n",
      "[0.284 0.292 0.318 0.312 0.307]\n",
      "cross validating activation function 'sigmoid'\n",
      "[0.222  0.2635 0.2355 0.2615 0.2465]\n",
      "cross validating activation function 'hard_sigmoid'\n",
      "[0.213  0.2375 0.245  0.2395 0.205 ]\n",
      "cross validating activation function 'linear'\n",
      "[0.2855 0.2965 0.255  0.2175 0.247 ]\n"
     ]
    }
   ],
   "source": [
    "activations = [\"softmax\", \"elu\", \"selu\", \"softplus\", \"softsign\", \"relu\", \"tanh\", \"sigmoid\", \"hard_sigmoid\", \"linear\"]\n",
    "accuracies = np.zeros((len(activations), n_splits))\n",
    "for i, activation in enumerate(activations):\n",
    "    print(\"cross validating\", \"activation function\", repr(activation))\n",
    "    accuracies[i] = np.zeros(n_splits)\n",
    "    for j, (train_indices, test_indicies) in enumerate(skf.split(test_input, test_output)):\n",
    "        model = create_model(activation = activation)\n",
    "        model.fit(test_input[train_indices], test_oh_output[train_indices], verbose=0)\n",
    "        accuracies[i][j] = calc_accuracy(model, test_input[test_indicies], test_output[test_indicies])\n",
    "    print(accuracies[i])"
   ]
  },
  {
   "cell_type": "code",
   "execution_count": 11,
   "metadata": {},
   "outputs": [
    {
     "data": {
      "image/png": "[encoded data removed]",
      "text/plain": [
       "<Figure size 432x288 with 1 Axes>"
      ]
     },
     "metadata": {},
     "output_type": "display_data"
    }
   ],
   "source": [
    "accuracies_mean = [np.mean(a) for a in accuracies]\n",
    "accuracies_std = [np.std(a) for a in accuracies]\n",
    "plt.errorbar(activations, accuracies_mean, yerr=accuracies_std)\n",
    "plt.xlabel(\"activation function\")\n",
    "plt.ylabel(\"epoch 1 accuracy\")\n",
    "plt.show()"
   ]
  },
  {
   "cell_type": "markdown",
   "metadata": {},
   "source": [
    "## dropout率"
   ]
  },
  {
   "cell_type": "code",
   "execution_count": null,
   "metadata": {},
   "outputs": [
    {
     "name": "stdout",
     "output_type": "stream",
     "text": [
      "cross validating dropout 0.0\n",
      "[0.309  0.2965 0.302  0.2935 0.2755]\n",
      "cross validating dropout 0.1\n",
      "[0.3025 0.272  0.28   0.296  0.2745]\n",
      "cross validating dropout 0.2\n"
     ]
    }
   ],
   "source": [
    "dropouts = np.linspace(0, 0.9, 10)\n",
    "accuracies = np.zeros((len(dropouts), n_splits))\n",
    "for i, dropout in enumerate(dropouts):\n",
    "    print(\"cross validating\", \"dropout\", dropout)\n",
    "    accuracies[i] = np.zeros(n_splits)\n",
    "    for j, (train_indices, test_indicies) in enumerate(skf.split(test_input, test_output)):\n",
    "        model = create_model(dropout = dropout)\n",
    "        model.fit(test_input[train_indices], test_oh_output[train_indices], verbose=0)\n",
    "        accuracies[i][j] = calc_accuracy(model, test_input[test_indicies], test_output[test_indicies])\n",
    "    print(accuracies[i])"
   ]
  },
  {
   "cell_type": "code",
   "execution_count": 14,
   "metadata": {},
   "outputs": [
    {
     "data": {
      "image/png": "[encoded data removed]",
      "text/plain": [
       "<Figure size 432x288 with 1 Axes>"
      ]
     },
     "metadata": {},
     "output_type": "display_data"
    }
   ],
   "source": [
    "accuracies_mean = [np.mean(a) for a in accuracies]\n",
    "accuracies_std = [np.std(a) for a in accuracies]\n",
    "plt.errorbar(dropouts, accuracies_mean, yerr=accuracies_std)\n",
    "plt.xlabel(\"dropout\")\n",
    "plt.ylabel(\"epoch 1 accuracy\")\n",
    "plt.show()"
   ]
  },
  {
   "cell_type": "markdown",
   "metadata": {},
   "source": [
    "# 效果测试"
   ]
  },
  {
   "cell_type": "code",
   "execution_count": null,
   "metadata": {},
   "outputs": [],
   "source": [
    "model = create_model(hidden_layer_size=200, hidden_layer_depth=1, activation=\"tanh\", dropout=0.3)\n",
    "model.fit(train_input, train_oh_output, epochs=50)\n",
    "accuracy = calc_accuracy(model, test_input, test_output)"
   ]
  }
 ],
 "metadata": {
  "kernelspec": {
   "display_name": "Python 3",
   "language": "python",
   "name": "python3"
  },
  "language_info": {
   "codemirror_mode": {
    "name": "ipython",
    "version": 3
   },
   "file_extension": ".py",
   "mimetype": "text/x-python",
   "name": "python",
   "nbconvert_exporter": "python",
   "pygments_lexer": "ipython3",
   "version": "3.6.5"
  }
 },
 "nbformat": 4,
 "nbformat_minor": 2
}
