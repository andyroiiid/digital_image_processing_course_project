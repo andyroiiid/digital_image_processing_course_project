{
 "cells": [
  {
   "cell_type": "code",
   "execution_count": 1,
   "metadata": {},
   "outputs": [],
   "source": [
    "%matplotlib inline\n",
    "\n",
    "import numpy as np\n",
    "import matplotlib.pyplot as plt\n",
    "from time import time\n",
    "\n",
    "DATA_PATH = \"../data/cifar-10-batches-py/\"\n",
    "\n",
    "def unpack(fname):\n",
    "    import pickle\n",
    "    with open(fname, \"rb\") as fin:\n",
    "        dumped = pickle.load(fin, encoding=\"bytes\")\n",
    "    return dumped\n",
    "\n",
    "train_input = []\n",
    "train_output = []\n",
    "for i in range(5):\n",
    "    raw_train_data = unpack(DATA_PATH + \"data_batch_\" + str(i+1))\n",
    "    train_input.append(np.array(raw_train_data[b\"data\"], dtype=float) / 255)\n",
    "    train_output.append(np.array([[1 if x == label else 0 for x in range(10)] for label in raw_train_data[b\"labels\"]]))\n",
    "train_input = np.concatenate(train_input).reshape(50000, 3, 32, 32).transpose(0, 2, 3, 1)\n",
    "train_output = np.concatenate(train_output)\n",
    "\n",
    "raw_test_data = unpack(DATA_PATH + \"test_batch\")\n",
    "test_input = (np.array(raw_test_data[b\"data\"], dtype=float) / 255).reshape(10000, 3, 32, 32).transpose(0, 2, 3, 1)\n",
    "test_output = np.array(raw_test_data[b\"labels\"])"
   ]
  },
  {
   "cell_type": "code",
   "execution_count": 2,
   "metadata": {},
   "outputs": [
    {
     "name": "stdout",
     "output_type": "stream",
     "text": [
      "(50000, 32, 32, 3)\n",
      "(50000, 10)\n"
     ]
    }
   ],
   "source": [
    "print(train_input.shape)\n",
    "print(train_output.shape)"
   ]
  },
  {
   "cell_type": "code",
   "execution_count": 3,
   "metadata": {},
   "outputs": [
    {
     "name": "stderr",
     "output_type": "stream",
     "text": [
      "Using TensorFlow backend.\n"
     ]
    }
   ],
   "source": [
    "import keras.models as km\n",
    "import keras.layers as kl\n",
    "import keras.optimizers as ko"
   ]
  },
  {
   "cell_type": "code",
   "execution_count": 4,
   "metadata": {},
   "outputs": [
    {
     "name": "stdout",
     "output_type": "stream",
     "text": [
      "_________________________________________________________________\n",
      "Layer (type)                 Output Shape              Param #   \n",
      "=================================================================\n",
      "conv2d_1 (Conv2D)            (None, 30, 30, 32)        896       \n",
      "_________________________________________________________________\n",
      "conv2d_2 (Conv2D)            (None, 28, 28, 64)        18496     \n",
      "_________________________________________________________________\n",
      "max_pooling2d_1 (MaxPooling2 (None, 14, 14, 64)        0         \n",
      "_________________________________________________________________\n",
      "dropout_1 (Dropout)          (None, 14, 14, 64)        0         \n",
      "_________________________________________________________________\n",
      "flatten_1 (Flatten)          (None, 12544)             0         \n",
      "_________________________________________________________________\n",
      "dense_1 (Dense)              (None, 128)               1605760   \n",
      "_________________________________________________________________\n",
      "dropout_2 (Dropout)          (None, 128)               0         \n",
      "_________________________________________________________________\n",
      "dense_2 (Dense)              (None, 10)                1290      \n",
      "=================================================================\n",
      "Total params: 1,626,442\n",
      "Trainable params: 1,626,442\n",
      "Non-trainable params: 0\n",
      "_________________________________________________________________\n"
     ]
    }
   ],
   "source": [
    "model = km.Sequential()\n",
    "model.add(kl.Conv2D(32, kernel_size=(3, 3), activation='relu', input_shape=(32, 32, 3)))\n",
    "model.add(kl.Conv2D(64, kernel_size=(3, 3), activation='relu'))\n",
    "model.add(kl.MaxPooling2D(pool_size=(2, 2)))\n",
    "model.add(kl.Dropout(0.25))\n",
    "model.add(kl.Flatten())\n",
    "model.add(kl.Dense(128, activation='relu'))\n",
    "model.add(kl.Dropout(0.5))\n",
    "model.add(kl.Dense(10, activation='softmax'))\n",
    "model.compile(loss='categorical_crossentropy', optimizer=ko.SGD(), metrics=[\"accuracy\"])\n",
    "\n",
    "model.summary()"
   ]
  },
  {
   "cell_type": "code",
   "execution_count": 6,
   "metadata": {},
   "outputs": [
    {
     "name": "stdout",
     "output_type": "stream",
     "text": [
      "Epoch 1/5\n",
      "50000/50000 [==============================] - 239s 5ms/step - loss: 1.8197 - acc: 0.3522\n",
      "Epoch 2/5\n",
      "50000/50000 [==============================] - 237s 5ms/step - loss: 1.5634 - acc: 0.4399\n",
      "Epoch 3/5\n",
      "50000/50000 [==============================] - 229s 5ms/step - loss: 1.4314 - acc: 0.4884\n",
      "Epoch 4/5\n",
      "50000/50000 [==============================] - 228s 5ms/step - loss: 1.3467 - acc: 0.5203\n",
      "Epoch 5/5\n",
      "50000/50000 [==============================] - 215s 4ms/step - loss: 1.2778 - acc: 0.5466\n"
     ]
    },
    {
     "data": {
      "text/plain": [
       "<keras.callbacks.History at 0x7f00842ed0f0>"
      ]
     },
     "execution_count": 6,
     "metadata": {},
     "output_type": "execute_result"
    }
   ],
   "source": [
    "model.fit(train_input, train_output, epochs=5)"
   ]
  },
  {
   "cell_type": "code",
   "execution_count": 7,
   "metadata": {},
   "outputs": [],
   "source": [
    "predict = [np.argmax(x) for x in model.predict(test_input)]"
   ]
  },
  {
   "cell_type": "code",
   "execution_count": 9,
   "metadata": {},
   "outputs": [
    {
     "name": "stdout",
     "output_type": "stream",
     "text": [
      "0.5916\n"
     ]
    }
   ],
   "source": [
    "correct_sum = 0\n",
    "for i in range(len(predict)):\n",
    "    if predict[i] == test_output[i]:\n",
    "        correct_sum += 1\n",
    "print(correct_sum / 10000)"
   ]
  },
  {
   "cell_type": "code",
   "execution_count": null,
   "metadata": {},
   "outputs": [],
   "source": []
  }
 ],
 "metadata": {
  "kernelspec": {
   "display_name": "Python 3",
   "language": "python",
   "name": "python3"
  },
  "language_info": {
   "codemirror_mode": {
    "name": "ipython",
    "version": 3
   },
   "file_extension": ".py",
   "mimetype": "text/x-python",
   "name": "python",
   "nbconvert_exporter": "python",
   "pygments_lexer": "ipython3",
   "version": "3.6.4"
  }
 },
 "nbformat": 4,
 "nbformat_minor": 2
}
